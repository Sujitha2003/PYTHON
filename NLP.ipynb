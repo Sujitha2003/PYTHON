{
  "nbformat": 4,
  "nbformat_minor": 0,
  "metadata": {
    "colab": {
      "name": "NLP",
      "provenance": [],
      "collapsed_sections": [],
      "authorship_tag": "ABX9TyOZzxtz/CTYolcRJdiU8ViR",
      "include_colab_link": true
    },
    "kernelspec": {
      "name": "python3",
      "display_name": "Python 3"
    },
    "language_info": {
      "name": "python"
    }
  },
  "cells": [
    {
      "cell_type": "markdown",
      "metadata": {
        "id": "view-in-github",
        "colab_type": "text"
      },
      "source": [
        "<a href=\"https://colab.research.google.com/github/Sujitha2003/PYTHON/blob/main/NLP.ipynb\" target=\"_parent\"><img src=\"https://colab.research.google.com/assets/colab-badge.svg\" alt=\"Open In Colab\"/></a>"
      ]
    },
    {
      "cell_type": "markdown",
      "source": [
        ""
      ],
      "metadata": {
        "id": "d1l8Wv6MShq1"
      }
    },
    {
      "cell_type": "markdown",
      "source": [
        "**TOKENIZATION**"
      ],
      "metadata": {
        "id": "by8ZXOoKSl0R"
      }
    },
    {
      "cell_type": "markdown",
      "source": [
        "**1.python split**"
      ],
      "metadata": {
        "id": "2LXo61kaTFRQ"
      }
    },
    {
      "cell_type": "code",
      "execution_count": null,
      "metadata": {
        "id": "tAdLRDSiQF4I"
      },
      "outputs": [],
      "source": [
        "Text=\" my name is sujitha\""
      ]
    },
    {
      "cell_type": "code",
      "source": [
        "Text.split()"
      ],
      "metadata": {
        "colab": {
          "base_uri": "https://localhost:8080/"
        },
        "id": "6MC_qW8VR4M-",
        "outputId": "c0748c4c-39a8-447c-d216-491242ea327b"
      },
      "execution_count": null,
      "outputs": [
        {
          "output_type": "execute_result",
          "data": {
            "text/plain": [
              "['my', 'name', 'is', 'sujitha']"
            ]
          },
          "metadata": {},
          "execution_count": 3
        }
      ]
    },
    {
      "cell_type": "code",
      "source": [
        "text=\" my name is sujitha.I am studying in bit\""
      ],
      "metadata": {
        "id": "WeP2JyAbSuA7"
      },
      "execution_count": null,
      "outputs": []
    },
    {
      "cell_type": "code",
      "source": [
        "text.split(\".\")"
      ],
      "metadata": {
        "colab": {
          "base_uri": "https://localhost:8080/"
        },
        "id": "32KAaZi1S7Pe",
        "outputId": "bb8205a7-eeb0-4d1e-c52d-3222440b5ba4"
      },
      "execution_count": null,
      "outputs": [
        {
          "output_type": "execute_result",
          "data": {
            "text/plain": [
              "[' my name is sujitha', 'I am studying in bit']"
            ]
          },
          "metadata": {},
          "execution_count": 5
        }
      ]
    },
    {
      "cell_type": "markdown",
      "source": [
        "**2.regular exp**"
      ],
      "metadata": {
        "id": "BXc3bjWzTNMO"
      }
    },
    {
      "cell_type": "code",
      "source": [
        "import re\n",
        "text=\" who are you? my name is sujitha.I am studying in bit\"\n",
        "text=re.compile(\"[?.]\").split(text)\n",
        "text\n",
        "\n"
      ],
      "metadata": {
        "colab": {
          "base_uri": "https://localhost:8080/"
        },
        "id": "l7taTApaTCon",
        "outputId": "04fa7e75-e267-4625-91c0-eead30e28f05"
      },
      "execution_count": null,
      "outputs": [
        {
          "output_type": "execute_result",
          "data": {
            "text/plain": [
              "[' who are you', ' my name is sujitha', 'I am studying in bit']"
            ]
          },
          "metadata": {},
          "execution_count": 6
        }
      ]
    },
    {
      "cell_type": "markdown",
      "source": [
        "# **3.NLTK**"
      ],
      "metadata": {
        "id": "F52b689cU26w"
      }
    },
    {
      "cell_type": "code",
      "source": [
        "import nltk\n",
        "from nltk.tokenize import word_tokenize"
      ],
      "metadata": {
        "id": "1mgpqQ_IUoIM"
      },
      "execution_count": null,
      "outputs": []
    },
    {
      "cell_type": "code",
      "source": [
        "nltk.download(\"punkt\")"
      ],
      "metadata": {
        "colab": {
          "base_uri": "https://localhost:8080/"
        },
        "id": "7GI93HQ7VP9M",
        "outputId": "06aec42e-e322-4400-b5a2-766a9f5eb3d4"
      },
      "execution_count": null,
      "outputs": [
        {
          "output_type": "stream",
          "name": "stdout",
          "text": [
            "[nltk_data] Downloading package punkt to /root/nltk_data...\n",
            "[nltk_data]   Unzipping tokenizers/punkt.zip.\n"
          ]
        },
        {
          "output_type": "execute_result",
          "data": {
            "text/plain": [
              "True"
            ]
          },
          "metadata": {},
          "execution_count": 8
        }
      ]
    },
    {
      "cell_type": "code",
      "source": [
        "sen=\" who are you? my name is sujitha.I am studying in bit\"\n",
        "word_tokenize(sen)"
      ],
      "metadata": {
        "colab": {
          "base_uri": "https://localhost:8080/"
        },
        "id": "OKeQJ6R8Vein",
        "outputId": "cb9203dd-4aa3-4f1e-e802-874b84036181"
      },
      "execution_count": null,
      "outputs": [
        {
          "output_type": "execute_result",
          "data": {
            "text/plain": [
              "['who',\n",
              " 'are',\n",
              " 'you',\n",
              " '?',\n",
              " 'my',\n",
              " 'name',\n",
              " 'is',\n",
              " 'sujitha.I',\n",
              " 'am',\n",
              " 'studying',\n",
              " 'in',\n",
              " 'bit']"
            ]
          },
          "metadata": {},
          "execution_count": 9
        }
      ]
    },
    {
      "cell_type": "markdown",
      "source": [
        "**assignment**"
      ],
      "metadata": {
        "id": "sPavtRzMWFvo"
      }
    },
    {
      "cell_type": "code",
      "source": [
        "from nltk.tokenize import sent_tokenize\n",
        "sent_tokenize(sen)"
      ],
      "metadata": {
        "colab": {
          "base_uri": "https://localhost:8080/"
        },
        "id": "VhEn9Q6uWAYV",
        "outputId": "83284f0e-2bd5-4f33-cf59-8773ecc71a43"
      },
      "execution_count": null,
      "outputs": [
        {
          "output_type": "execute_result",
          "data": {
            "text/plain": [
              "[' who are you?', 'my name is sujitha.I am studying in bit']"
            ]
          },
          "metadata": {},
          "execution_count": 10
        }
      ]
    },
    {
      "cell_type": "code",
      "source": [
        "import gensim\n",
        "from gensim.utils import tokenize\n",
        "list(tokenize(sen))"
      ],
      "metadata": {
        "colab": {
          "base_uri": "https://localhost:8080/"
        },
        "id": "qCDGvGJpZN8U",
        "outputId": "60194bad-1ba8-4a28-b519-0239b15eb880"
      },
      "execution_count": null,
      "outputs": [
        {
          "output_type": "execute_result",
          "data": {
            "text/plain": [
              "['who',\n",
              " 'are',\n",
              " 'you',\n",
              " 'my',\n",
              " 'name',\n",
              " 'is',\n",
              " 'sujitha',\n",
              " 'I',\n",
              " 'am',\n",
              " 'studying',\n",
              " 'in',\n",
              " 'bit']"
            ]
          },
          "metadata": {},
          "execution_count": 11
        }
      ]
    },
    {
      "cell_type": "markdown",
      "source": [
        "**STEMMING**(root word)"
      ],
      "metadata": {
        "id": "qsFhiDcdWsXN"
      }
    },
    {
      "cell_type": "markdown",
      "source": [
        "**1**.**porter** **stemmer**"
      ],
      "metadata": {
        "id": "H-pWmeo3W0VY"
      }
    },
    {
      "cell_type": "code",
      "source": [
        "from nltk.stem import PorterStemmer\n",
        "porter=PorterStemmer()"
      ],
      "metadata": {
        "id": "xzQyrgNYWmWH"
      },
      "execution_count": null,
      "outputs": []
    },
    {
      "cell_type": "code",
      "source": [
        "words=[\"take\",\"taking\",\"took\",\"takes\"]"
      ],
      "metadata": {
        "id": "-8z7tlIQXZ0q"
      },
      "execution_count": null,
      "outputs": []
    },
    {
      "cell_type": "code",
      "source": [
        "for word in words:\n",
        "  print(word,\"-->\",porter.stem(word))"
      ],
      "metadata": {
        "colab": {
          "base_uri": "https://localhost:8080/"
        },
        "id": "e-k8QRWmXubl",
        "outputId": "87c021aa-5061-4ee0-9849-69ae69c0bfd4"
      },
      "execution_count": null,
      "outputs": [
        {
          "output_type": "stream",
          "name": "stdout",
          "text": [
            "take --> take\n",
            "taking --> take\n",
            "took --> took\n",
            "takes --> take\n"
          ]
        }
      ]
    },
    {
      "cell_type": "markdown",
      "source": [
        "**2**.**snowball**"
      ],
      "metadata": {
        "id": "oOPrAFw2aALL"
      }
    },
    {
      "cell_type": "code",
      "source": [
        "from nltk.stem import SnowballStemmer\n",
        "porter=SnowballStemmer(language=\"english\")\n",
        "for word in words:\n",
        "  print(word,\"-->\",porter.stem(word))"
      ],
      "metadata": {
        "colab": {
          "base_uri": "https://localhost:8080/"
        },
        "id": "ReEL9TK0X-bx",
        "outputId": "4e736e4d-b002-4534-c9d4-f4daa81f48b8"
      },
      "execution_count": null,
      "outputs": [
        {
          "output_type": "stream",
          "name": "stdout",
          "text": [
            "take --> take\n",
            "taking --> take\n",
            "took --> took\n",
            "takes --> take\n"
          ]
        }
      ]
    },
    {
      "cell_type": "markdown",
      "source": [
        "**3**.**lancaster** "
      ],
      "metadata": {
        "id": "KePmS47QeRfJ"
      }
    },
    {
      "cell_type": "code",
      "source": [
        "from nltk.stem import LancasterStemmer\n",
        "porter=LancasterStemmer()\n",
        "for word in words:\n",
        "  print(word,\"-->\",porter.stem(word))"
      ],
      "metadata": {
        "colab": {
          "base_uri": "https://localhost:8080/"
        },
        "id": "5TJud9N2Z179",
        "outputId": "19a91546-3451-409b-cd16-7ac90c29f999"
      },
      "execution_count": null,
      "outputs": [
        {
          "output_type": "stream",
          "name": "stdout",
          "text": [
            "take --> tak\n",
            "taking --> tak\n",
            "took --> took\n",
            "takes --> tak\n"
          ]
        }
      ]
    },
    {
      "cell_type": "markdown",
      "source": [
        "**4**.**regexpstemmer**"
      ],
      "metadata": {
        "id": "hk5PatKte8sL"
      }
    },
    {
      "cell_type": "code",
      "source": [
        "from nltk.stem import RegexpStemmer\n",
        "porter=RegexpStemmer()\n",
        "for word in words:\n",
        "  print(word,\"-->\",porter.stem(word))"
      ],
      "metadata": {
        "id": "Z9m5LPrye0sB"
      },
      "execution_count": null,
      "outputs": []
    },
    {
      "cell_type": "markdown",
      "source": [
        "**LEMMATIZATION**"
      ],
      "metadata": {
        "id": "xNh12GJkgbt3"
      }
    },
    {
      "cell_type": "code",
      "source": [
        "from textblob import TextBlob,Word"
      ],
      "metadata": {
        "id": "MNmK9B4wgUgj"
      },
      "execution_count": null,
      "outputs": []
    },
    {
      "cell_type": "code",
      "source": [
        "nltk.download(\"wordnet\")"
      ],
      "metadata": {
        "colab": {
          "base_uri": "https://localhost:8080/"
        },
        "id": "F_WxbXQKgTF7",
        "outputId": "a24407a9-0982-4021-b436-31064c625b5b"
      },
      "execution_count": null,
      "outputs": [
        {
          "output_type": "stream",
          "name": "stdout",
          "text": [
            "[nltk_data] Downloading package wordnet to /root/nltk_data...\n",
            "[nltk_data]   Unzipping corpora/wordnet.zip.\n"
          ]
        },
        {
          "output_type": "execute_result",
          "data": {
            "text/plain": [
              "True"
            ]
          },
          "metadata": {},
          "execution_count": 19
        }
      ]
    },
    {
      "cell_type": "code",
      "source": [
        "lists=[\"waiting\",\"plays\",\"went\",\"flying\"]\n",
        "for word in lists:\n",
        "  w=Word(word)\n",
        "  print(word + \"-->\",w.lemmatize())"
      ],
      "metadata": {
        "colab": {
          "base_uri": "https://localhost:8080/"
        },
        "id": "SqB8cBW8hBh8",
        "outputId": "c04c72e4-4726-4045-c086-57920553969e"
      },
      "execution_count": null,
      "outputs": [
        {
          "output_type": "stream",
          "name": "stdout",
          "text": [
            "waiting--> waiting\n",
            "plays--> play\n",
            "went--> went\n",
            "flying--> flying\n"
          ]
        }
      ]
    },
    {
      "cell_type": "code",
      "source": [
        "from nltk.stem import WordNetLemmatizer\n",
        "w1= WordNetLemmatizer()\n",
        "for word in lists:\n",
        "  print(word + \"-->\",w1.lemmatize(word))\n"
      ],
      "metadata": {
        "colab": {
          "base_uri": "https://localhost:8080/"
        },
        "id": "WKTLeWQVh7xL",
        "outputId": "948f6c9e-9696-492c-a29a-1ebb4d714678"
      },
      "execution_count": null,
      "outputs": [
        {
          "output_type": "stream",
          "name": "stdout",
          "text": [
            "waiting--> waiting\n",
            "plays--> play\n",
            "went--> went\n",
            "flying--> flying\n"
          ]
        }
      ]
    },
    {
      "cell_type": "markdown",
      "source": [
        "**BAG** **OF** **WORDS** (REPRESENTATION OF TEXT/SENTENCE INTO NUMERIC)"
      ],
      "metadata": {
        "id": "pwsnexDvjXo6"
      }
    },
    {
      "cell_type": "markdown",
      "source": [
        "**COSINE** **SIMILARITY**"
      ],
      "metadata": {
        "id": "8fXxBDQUoXvE"
      }
    },
    {
      "cell_type": "markdown",
      "source": [
        "**TFIDF**(term frequency(no of word appered) -inverse document freuency(occur less and more)\n",
        "\n",
        "\n",
        "\n"
      ],
      "metadata": {
        "id": "9KA2-XhJochK"
      }
    },
    {
      "cell_type": "markdown",
      "source": [
        "**term frequency(TF)**=(no of present in voc/no of present in que)"
      ],
      "metadata": {
        "id": "JGsglyHWpXhU"
      }
    },
    {
      "cell_type": "markdown",
      "source": [
        "**IDF**=LOG(n/df(t))**[n-no,of.ques,df(t)-no.of.times a word pre]**"
      ],
      "metadata": {
        "id": "p27ZX06Tpxmt"
      }
    },
    {
      "cell_type": "markdown",
      "source": [
        "**VECTOR** **REPRESENTATION**=IF*IDF"
      ],
      "metadata": {
        "id": "vZnIbbmFrpjV"
      }
    },
    {
      "cell_type": "markdown",
      "source": [
        "**Word** **Embedding**(represent each word numerically)"
      ],
      "metadata": {
        "id": "LdUKAFrTtAsO"
      }
    },
    {
      "cell_type": "markdown",
      "source": [
        "cosine similarity code"
      ],
      "metadata": {
        "id": "AsSPyU44yjeG"
      }
    },
    {
      "cell_type": "code",
      "source": [
        "import en_core_web_sm\n",
        "nlp=en_core_web_sm.load()"
      ],
      "metadata": {
        "id": "88nFthgZiq3g"
      },
      "execution_count": null,
      "outputs": []
    },
    {
      "cell_type": "code",
      "source": [
        "sent1=nlp(\"How can I check my account balance\")\n",
        "sent2=nlp(\"I want to check my account balance\")\n",
        "print(sent2.similarity(sent1))"
      ],
      "metadata": {
        "colab": {
          "base_uri": "https://localhost:8080/"
        },
        "id": "5plXioOau5rm",
        "outputId": "da17eee1-fd01-44e5-9ba0-bfd63136f0ce"
      },
      "execution_count": null,
      "outputs": [
        {
          "output_type": "stream",
          "name": "stdout",
          "text": [
            "0.7998775843063977\n"
          ]
        },
        {
          "output_type": "stream",
          "name": "stderr",
          "text": [
            "/usr/lib/python3.7/runpy.py:193: ModelsWarning: [W007] The model you're using has no word vectors loaded, so the result of the Doc.similarity method will be based on the tagger, parser and NER, which may not give useful similarity judgements. This may happen if you're using one of the small models, e.g. `en_core_web_sm`, which don't ship with word vectors and only use context-sensitive tensors. You can always add your own word vectors, or use one of the larger models instead if available.\n",
            "  \"__main__\", mod_spec)\n"
          ]
        }
      ]
    },
    {
      "cell_type": "code",
      "source": [
        "nltk.download(\"stopwords\")"
      ],
      "metadata": {
        "colab": {
          "base_uri": "https://localhost:8080/"
        },
        "id": "Nw7xjgiZu9UV",
        "outputId": "27fbcc9f-98c4-44a7-d480-702850f187e0"
      },
      "execution_count": null,
      "outputs": [
        {
          "output_type": "stream",
          "name": "stdout",
          "text": [
            "[nltk_data] Downloading package stopwords to /root/nltk_data...\n",
            "[nltk_data]   Unzipping corpora/stopwords.zip.\n"
          ]
        },
        {
          "output_type": "execute_result",
          "data": {
            "text/plain": [
              "True"
            ]
          },
          "metadata": {},
          "execution_count": 24
        }
      ]
    },
    {
      "cell_type": "code",
      "source": [
        "from nltk.corpus import stopwords\n",
        "print(stopwords.words(\"english\"))"
      ],
      "metadata": {
        "colab": {
          "base_uri": "https://localhost:8080/"
        },
        "id": "dKAlvwsiwH4x",
        "outputId": "82c4be8d-5423-4e6e-ed85-88947747a6ff"
      },
      "execution_count": null,
      "outputs": [
        {
          "output_type": "stream",
          "name": "stdout",
          "text": [
            "['i', 'me', 'my', 'myself', 'we', 'our', 'ours', 'ourselves', 'you', \"you're\", \"you've\", \"you'll\", \"you'd\", 'your', 'yours', 'yourself', 'yourselves', 'he', 'him', 'his', 'himself', 'she', \"she's\", 'her', 'hers', 'herself', 'it', \"it's\", 'its', 'itself', 'they', 'them', 'their', 'theirs', 'themselves', 'what', 'which', 'who', 'whom', 'this', 'that', \"that'll\", 'these', 'those', 'am', 'is', 'are', 'was', 'were', 'be', 'been', 'being', 'have', 'has', 'had', 'having', 'do', 'does', 'did', 'doing', 'a', 'an', 'the', 'and', 'but', 'if', 'or', 'because', 'as', 'until', 'while', 'of', 'at', 'by', 'for', 'with', 'about', 'against', 'between', 'into', 'through', 'during', 'before', 'after', 'above', 'below', 'to', 'from', 'up', 'down', 'in', 'out', 'on', 'off', 'over', 'under', 'again', 'further', 'then', 'once', 'here', 'there', 'when', 'where', 'why', 'how', 'all', 'any', 'both', 'each', 'few', 'more', 'most', 'other', 'some', 'such', 'no', 'nor', 'not', 'only', 'own', 'same', 'so', 'than', 'too', 'very', 's', 't', 'can', 'will', 'just', 'don', \"don't\", 'should', \"should've\", 'now', 'd', 'll', 'm', 'o', 're', 've', 'y', 'ain', 'aren', \"aren't\", 'couldn', \"couldn't\", 'didn', \"didn't\", 'doesn', \"doesn't\", 'hadn', \"hadn't\", 'hasn', \"hasn't\", 'haven', \"haven't\", 'isn', \"isn't\", 'ma', 'mightn', \"mightn't\", 'mustn', \"mustn't\", 'needn', \"needn't\", 'shan', \"shan't\", 'shouldn', \"shouldn't\", 'wasn', \"wasn't\", 'weren', \"weren't\", 'won', \"won't\", 'wouldn', \"wouldn't\"]\n"
          ]
        }
      ]
    },
    {
      "cell_type": "markdown",
      "source": [
        "**remove** **stopword** **to** **increase** **cosine** **similarity**"
      ],
      "metadata": {
        "id": "BQZxdYb6weBQ"
      }
    },
    {
      "cell_type": "code",
      "source": [
        "nltk.download(\"punkt\")"
      ],
      "metadata": {
        "colab": {
          "base_uri": "https://localhost:8080/"
        },
        "id": "xDZBzJ8uwTfc",
        "outputId": "2d33b9ef-8b69-4399-9ede-6aa557a01e4a"
      },
      "execution_count": null,
      "outputs": [
        {
          "output_type": "stream",
          "name": "stdout",
          "text": [
            "[nltk_data] Downloading package punkt to /root/nltk_data...\n",
            "[nltk_data]   Package punkt is already up-to-date!\n"
          ]
        },
        {
          "output_type": "execute_result",
          "data": {
            "text/plain": [
              "True"
            ]
          },
          "metadata": {},
          "execution_count": 26
        }
      ]
    },
    {
      "cell_type": "code",
      "source": [
        "stop_word=set(stopwords.words(\"english\"))\n",
        "from nltk.tokenize import word_tokenize\n",
        "wordtok=word_tokenize(\"How can I check my account balance\")\n",
        "wordtok\n"
      ],
      "metadata": {
        "colab": {
          "base_uri": "https://localhost:8080/"
        },
        "id": "TohGTkOwwzo5",
        "outputId": "58468ded-7de0-4c52-e760-9df0db5f0754"
      },
      "execution_count": null,
      "outputs": [
        {
          "output_type": "execute_result",
          "data": {
            "text/plain": [
              "['How', 'can', 'I', 'check', 'my', 'account', 'balance']"
            ]
          },
          "metadata": {},
          "execution_count": 27
        }
      ]
    },
    {
      "cell_type": "code",
      "source": [
        "new_sent=[ w for w in wordtok if w.lower() not in stop_word]\n",
        "new_sent=\" \".join(str(elem) for elem in new_sent)\n",
        "print(new_sent)"
      ],
      "metadata": {
        "colab": {
          "base_uri": "https://localhost:8080/"
        },
        "id": "lyJ1s1qvxXiB",
        "outputId": "0a7ec9e5-667a-4f44-efdc-890076c44013"
      },
      "execution_count": null,
      "outputs": [
        {
          "output_type": "stream",
          "name": "stdout",
          "text": [
            "check account balance\n"
          ]
        }
      ]
    },
    {
      "cell_type": "code",
      "source": [
        "wordtok1=word_tokenize(\"I want to check my account balance\")\n",
        "new_sent1=[ w for w in wordtok1 if w.lower() not in stop_word]\n",
        "new_sent1=\" \".join(str(elem) for elem in new_sent1)   #joining words to make it a sentence\n",
        "print(new_sent1)\n"
      ],
      "metadata": {
        "colab": {
          "base_uri": "https://localhost:8080/"
        },
        "id": "CiOg9GEyyblV",
        "outputId": "40ee5615-0c3c-4fa9-9520-656cc9a6f62b"
      },
      "execution_count": null,
      "outputs": [
        {
          "output_type": "stream",
          "name": "stdout",
          "text": [
            "want check account balance\n"
          ]
        }
      ]
    },
    {
      "cell_type": "code",
      "source": [
        "new_sent=nlp(new_sent)\n",
        "new_sent1=nlp(new_sent1)\n",
        "print(new_sent1.similarity(new_sent))"
      ],
      "metadata": {
        "colab": {
          "base_uri": "https://localhost:8080/"
        },
        "id": "SkTKaTErzUf1",
        "outputId": "e78f4caf-c5e6-4d1a-93bd-609dc937e585"
      },
      "execution_count": null,
      "outputs": [
        {
          "output_type": "stream",
          "name": "stdout",
          "text": [
            "0.9003613092570767\n"
          ]
        },
        {
          "output_type": "stream",
          "name": "stderr",
          "text": [
            "/usr/lib/python3.7/runpy.py:193: ModelsWarning: [W007] The model you're using has no word vectors loaded, so the result of the Doc.similarity method will be based on the tagger, parser and NER, which may not give useful similarity judgements. This may happen if you're using one of the small models, e.g. `en_core_web_sm`, which don't ship with word vectors and only use context-sensitive tensors. You can always add your own word vectors, or use one of the larger models instead if available.\n",
            "  \"__main__\", mod_spec)\n"
          ]
        }
      ]
    },
    {
      "cell_type": "code",
      "source": [
        ""
      ],
      "metadata": {
        "id": "Aunv7bFE1BjT"
      },
      "execution_count": null,
      "outputs": []
    }
  ]
}