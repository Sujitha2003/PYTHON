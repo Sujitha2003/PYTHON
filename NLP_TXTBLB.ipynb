{
  "nbformat": 4,
  "nbformat_minor": 0,
  "metadata": {
    "colab": {
      "name": "NLP.TXTBLB.ipynb",
      "provenance": [],
      "authorship_tag": "ABX9TyNuku2ghQTWL04IwToAhhkp",
      "include_colab_link": true
    },
    "kernelspec": {
      "name": "python3",
      "display_name": "Python 3"
    },
    "language_info": {
      "name": "python"
    }
  },
  "cells": [
    {
      "cell_type": "markdown",
      "metadata": {
        "id": "view-in-github",
        "colab_type": "text"
      },
      "source": [
        "<a href=\"https://colab.research.google.com/github/Sujitha2003/PYTHON/blob/main/NLP_TXTBLB.ipynb\" target=\"_parent\"><img src=\"https://colab.research.google.com/assets/colab-badge.svg\" alt=\"Open In Colab\"/></a>"
      ]
    },
    {
      "cell_type": "markdown",
      "source": [
        "**NLP** **WITH** **TEXTBLOB LIBRARY**"
      ],
      "metadata": {
        "id": "siBoQlMP45q-"
      }
    },
    {
      "cell_type": "markdown",
      "source": [
        "1)**NLP**-AUTO CORRECT"
      ],
      "metadata": {
        "id": "Jb8M5UUOcxVu"
      }
    },
    {
      "cell_type": "code",
      "execution_count": 33,
      "metadata": {
        "colab": {
          "base_uri": "https://localhost:8080/"
        },
        "id": "KUrmWdhGW3L_",
        "outputId": "9b5989f4-b757-4d9c-99a9-e415c4b539e3"
      },
      "outputs": [
        {
          "output_type": "stream",
          "name": "stdout",
          "text": [
            "Gandhi is a great leader \n"
          ]
        }
      ],
      "source": [
        "from textblob import TextBlob\n",
        "text=TextBlob(\"Gandhi is a grat leder \")\n",
        "print(text.correct())"
      ]
    },
    {
      "cell_type": "code",
      "source": [
        "text_1=TextBlob(\"your persnality confuses me\")\n",
        "print(text_1.correct())"
      ],
      "metadata": {
        "colab": {
          "base_uri": "https://localhost:8080/"
        },
        "id": "ot2LaeAj_Okk",
        "outputId": "49dfe80b-d25e-4fac-edfc-8d0499631f08"
      },
      "execution_count": 34,
      "outputs": [
        {
          "output_type": "stream",
          "name": "stdout",
          "text": [
            "your personality confused me\n"
          ]
        }
      ]
    },
    {
      "cell_type": "code",
      "source": [
        "text_1=TextBlob(\"i  lve jsus\")\n",
        "print(text_1.correct())"
      ],
      "metadata": {
        "colab": {
          "base_uri": "https://localhost:8080/"
        },
        "id": "Nk0ANpKE_u-y",
        "outputId": "4f4bb9c7-60f9-4041-971c-9124f3dc28c3"
      },
      "execution_count": 35,
      "outputs": [
        {
          "output_type": "stream",
          "name": "stdout",
          "text": [
            "i  love jesus\n"
          ]
        }
      ]
    },
    {
      "cell_type": "markdown",
      "source": [
        "2)**NLP**-TRANSLATE"
      ],
      "metadata": {
        "id": "xN3cueYFc9zA"
      }
    },
    {
      "cell_type": "markdown",
      "source": [
        "FROM ***ENGLISH*** TO ***TAMIL***"
      ],
      "metadata": {
        "id": "goRtxmm7dMyZ"
      }
    },
    {
      "cell_type": "code",
      "source": [
        "from textblob import TextBlob\n",
        "word=TextBlob(\"hello\")\n",
        "x=word.translate(from_lang='en',to='ta')\n",
        "print(x)\n"
      ],
      "metadata": {
        "colab": {
          "base_uri": "https://localhost:8080/"
        },
        "id": "0g5ZBPoPbhbY",
        "outputId": "75530615-0768-4131-f44c-946ccc4cb7f0"
      },
      "execution_count": 36,
      "outputs": [
        {
          "output_type": "stream",
          "name": "stdout",
          "text": [
            "வணக்கம்\n"
          ]
        }
      ]
    },
    {
      "cell_type": "markdown",
      "source": [
        "FROM ***ENGLISH*** TO ***HINDI***"
      ],
      "metadata": {
        "id": "nDyNpThtdU5F"
      }
    },
    {
      "cell_type": "code",
      "source": [
        "word=TextBlob(\"hello\")\n",
        "x=word.translate(from_lang='en',to='hi')\n",
        "print(x)"
      ],
      "metadata": {
        "colab": {
          "base_uri": "https://localhost:8080/"
        },
        "id": "zZ26V9TPccWq",
        "outputId": "d9f598d6-c162-457e-d60d-d885689d2fad"
      },
      "execution_count": 37,
      "outputs": [
        {
          "output_type": "stream",
          "name": "stdout",
          "text": [
            "नमस्ते\n"
          ]
        }
      ]
    },
    {
      "cell_type": "markdown",
      "source": [
        "FROM ***ENGLISH*** TO ***ARABIC***"
      ],
      "metadata": {
        "id": "V46ySSw4dcG0"
      }
    },
    {
      "cell_type": "code",
      "source": [
        "word=TextBlob(\"hello\")\n",
        "x=word.translate(from_lang='en',to='ar')\n",
        "print(x)"
      ],
      "metadata": {
        "colab": {
          "base_uri": "https://localhost:8080/"
        },
        "id": "XaebBv7dcngX",
        "outputId": "a9983481-e581-4eb4-f449-ded3086bb984"
      },
      "execution_count": 38,
      "outputs": [
        {
          "output_type": "stream",
          "name": "stdout",
          "text": [
            "أهلا\n"
          ]
        }
      ]
    },
    {
      "cell_type": "markdown",
      "source": [
        "3)**NLP**-SENTIMENT ANALYSIS "
      ],
      "metadata": {
        "id": "7P39kTq-4vMP"
      }
    },
    {
      "cell_type": "markdown",
      "source": [
        "polarity is ***positive***(+ve) for positive stament.\n",
        "polarity is ***negative***(-ve) for negative stament."
      ],
      "metadata": {
        "id": "1tCBPjca5MVr"
      }
    },
    {
      "cell_type": "code",
      "source": [
        "from textblob import TextBlob\n",
        "emotion_1=TextBlob(\"I hate this movie\")\n",
        "emotion_1.sentiment"
      ],
      "metadata": {
        "colab": {
          "base_uri": "https://localhost:8080/"
        },
        "id": "Ky0t2SLi3_Nb",
        "outputId": "207f6cac-b69c-44eb-d211-8394a1ee4637"
      },
      "execution_count": 39,
      "outputs": [
        {
          "output_type": "execute_result",
          "data": {
            "text/plain": [
              "Sentiment(polarity=-0.8, subjectivity=0.9)"
            ]
          },
          "metadata": {},
          "execution_count": 39
        }
      ]
    },
    {
      "cell_type": "code",
      "source": [
        "emotion_2=TextBlob(\"I love this movie\")\n",
        "emotion_2.sentiment"
      ],
      "metadata": {
        "colab": {
          "base_uri": "https://localhost:8080/"
        },
        "id": "yFy0-hh05C-O",
        "outputId": "a227fd61-3222-4aa0-e06e-137efc992a38"
      },
      "execution_count": 40,
      "outputs": [
        {
          "output_type": "execute_result",
          "data": {
            "text/plain": [
              "Sentiment(polarity=0.5, subjectivity=0.6)"
            ]
          },
          "metadata": {},
          "execution_count": 40
        }
      ]
    },
    {
      "cell_type": "code",
      "source": [
        "my_feelings=[\"i like you\",\"i hate you\",\"i was surprised \",\"you are amazing\",\"she is annoying\"]\n",
        "for e in my_feelings:\n",
        "  emotion=TextBlob(e).sentiment.polarity\n",
        "  print(e,emotion)\n",
        " "
      ],
      "metadata": {
        "colab": {
          "base_uri": "https://localhost:8080/"
        },
        "id": "HWlG7gJ15n_Y",
        "outputId": "9c5ff9f6-b6c3-43c7-c968-833e0797ee8a"
      },
      "execution_count": 41,
      "outputs": [
        {
          "output_type": "stream",
          "name": "stdout",
          "text": [
            "i like you 0.0\n",
            "i hate you -0.8\n",
            "i was surprised  0.1\n",
            "you are amazing 0.6000000000000001\n",
            "she is annoying -0.8\n"
          ]
        }
      ]
    }
  ]
}