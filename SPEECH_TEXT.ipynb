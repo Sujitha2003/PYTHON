{
  "nbformat": 4,
  "nbformat_minor": 0,
  "metadata": {
    "colab": {
      "name": "SPEECH-TEXT.ipynb",
      "provenance": [],
      "authorship_tag": "ABX9TyNV6JU8B1aU1EzE0UB/gXgV",
      "include_colab_link": true
    },
    "kernelspec": {
      "name": "python3",
      "display_name": "Python 3"
    },
    "language_info": {
      "name": "python"
    }
  },
  "cells": [
    {
      "cell_type": "markdown",
      "metadata": {
        "id": "view-in-github",
        "colab_type": "text"
      },
      "source": [
        "<a href=\"https://colab.research.google.com/github/Sujitha2003/PYTHON/blob/main/SPEECH_TEXT.ipynb\" target=\"_parent\"><img src=\"https://colab.research.google.com/assets/colab-badge.svg\" alt=\"Open In Colab\"/></a>"
      ]
    },
    {
      "cell_type": "markdown",
      "source": [
        "# **SPEECH TO TEXT CONVERSION**"
      ],
      "metadata": {
        "id": "WWOoWurcZHC_"
      }
    },
    {
      "cell_type": "markdown",
      "source": [
        "INSTALL SPEECHRECOGINITION"
      ],
      "metadata": {
        "id": "al1nthY8ZSIm"
      }
    },
    {
      "cell_type": "code",
      "source": [
        "!pip install SpeechRecognition\n",
        "#install speech recognition"
      ],
      "metadata": {
        "colab": {
          "base_uri": "https://localhost:8080/"
        },
        "id": "hG2m61FSX3Rn",
        "outputId": "62617bf9-d5db-4b46-8cf4-4034fa179646"
      },
      "execution_count": 2,
      "outputs": [
        {
          "output_type": "stream",
          "name": "stdout",
          "text": [
            "Collecting SpeechRecognition\n",
            "  Downloading SpeechRecognition-3.8.1-py2.py3-none-any.whl (32.8 MB)\n",
            "\u001b[K     |████████████████████████████████| 32.8 MB 1.3 MB/s \n",
            "\u001b[?25hInstalling collected packages: SpeechRecognition\n",
            "Successfully installed SpeechRecognition-3.8.1\n"
          ]
        }
      ]
    },
    {
      "cell_type": "markdown",
      "source": [
        "READING AUDIO FILE"
      ],
      "metadata": {
        "id": "mkJnYcM_Zh_G"
      }
    },
    {
      "cell_type": "code",
      "source": [
        "import speech_recognition as sr\n",
        "filename=\"/content/audio.wav\"\n",
        "r=sr.Recognizer()"
      ],
      "metadata": {
        "id": "4gD0orBnPMUa"
      },
      "execution_count": 3,
      "outputs": []
    },
    {
      "cell_type": "markdown",
      "source": [
        "CONVERTING AUDIO INTO TEXT AND PRINTING IT"
      ],
      "metadata": {
        "id": "VCavIu6mZnRF"
      }
    },
    {
      "cell_type": "code",
      "source": [
        "with sr.AudioFile(filename) as source:\n",
        "  audio_data=r.record(source)\n",
        "  text=r.recognize_google(audio_data)\n",
        "  print(text)"
      ],
      "metadata": {
        "colab": {
          "base_uri": "https://localhost:8080/"
        },
        "id": "1Wo8Lk40R0P6",
        "outputId": "7119dd99-f534-4fa7-9f31-0915979db7f7"
      },
      "execution_count": 5,
      "outputs": [
        {
          "output_type": "stream",
          "name": "stdout",
          "text": [
            "hello how are you\n"
          ]
        }
      ]
    },
    {
      "cell_type": "code",
      "source": [
        "filename_1=\"/content/audio1.wav\"\n",
        "with sr.AudioFile(filename_1) as source:\n",
        "  audio_data_1=r.record(source)\n",
        "  texts=r.recognize_google(audio_data_1)\n",
        "  print(texts)\n"
      ],
      "metadata": {
        "colab": {
          "base_uri": "https://localhost:8080/"
        },
        "id": "ZQekvArXUb_5",
        "outputId": "12a01c92-195f-41d5-94e3-8b2605a9d810"
      },
      "execution_count": 8,
      "outputs": [
        {
          "output_type": "stream",
          "name": "stdout",
          "text": [
            "here I converted speech into text first import speech recognize station and then use recognizer function\n"
          ]
        }
      ]
    }
  ]
}